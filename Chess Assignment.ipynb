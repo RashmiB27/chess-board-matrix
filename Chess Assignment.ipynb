{
 "cells": [
  {
   "cell_type": "markdown",
   "id": "a7a6d4c6-36d7-440d-b3cd-996e90b0e3b6",
   "metadata": {},
   "source": [
    "# Chess Assignment"
   ]
  },
  {
   "cell_type": "code",
   "execution_count": 2,
   "id": "9b4300d1-16c1-4288-a300-b922e3b9b6b9",
   "metadata": {},
   "outputs": [],
   "source": [
    "import numpy as np\n",
    "import matplotlib.pyplot as plt\n",
    "import cv2 as cv"
   ]
  },
  {
   "cell_type": "code",
   "execution_count": 3,
   "id": "d9245aba-df78-4118-8d1f-99b0a2f54838",
   "metadata": {},
   "outputs": [],
   "source": [
    "chess = np.zeros((8,8),dtype=int)"
   ]
  },
  {
   "cell_type": "code",
   "execution_count": 4,
   "id": "3c7cb917-176c-4c2e-8ddf-b94227c32c23",
   "metadata": {},
   "outputs": [],
   "source": [
    "chess = chess.tolist()"
   ]
  },
  {
   "cell_type": "code",
   "execution_count": 7,
   "id": "f60ce165-3045-4b8e-8539-f1ad9d8f2799",
   "metadata": {},
   "outputs": [],
   "source": [
    "for i in range(len(chess)):\n",
    "    if(i%2==0):\n",
    "        for j in range(len(chess[i])):\n",
    "            if(j%2==0):\n",
    "                chess[i][j]=255\n",
    "    elif(i%2!=0):\n",
    "        for j in range(len(chess[i])):\n",
    "            if(j%2!=0):\n",
    "                chess[i][j]=255"
   ]
  },
  {
   "cell_type": "code",
   "execution_count": 8,
   "id": "19e3f3b0-26aa-40dc-8eec-f9d80843b476",
   "metadata": {},
   "outputs": [
    {
     "data": {
      "text/plain": [
       "[[255, 0, 255, 0, 255, 0, 255, 0],\n",
       " [0, 255, 0, 255, 0, 255, 0, 255],\n",
       " [255, 0, 255, 0, 255, 0, 255, 0],\n",
       " [0, 255, 0, 255, 0, 255, 0, 255],\n",
       " [255, 0, 255, 0, 255, 0, 255, 0],\n",
       " [0, 255, 0, 255, 0, 255, 0, 255],\n",
       " [255, 0, 255, 0, 255, 0, 255, 0],\n",
       " [0, 255, 0, 255, 0, 255, 0, 255]]"
      ]
     },
     "execution_count": 8,
     "metadata": {},
     "output_type": "execute_result"
    }
   ],
   "source": [
    "chess"
   ]
  },
  {
   "cell_type": "code",
   "execution_count": 9,
   "id": "73802cb2-8612-4319-9ead-810f07467bed",
   "metadata": {},
   "outputs": [
    {
     "data": {
      "text/plain": [
       "<matplotlib.image.AxesImage at 0x16fc7c226a0>"
      ]
     },
     "execution_count": 9,
     "metadata": {},
     "output_type": "execute_result"
    },
    {
     "data": {
      "image/png": "[encoded data removed]",
      "text/plain": [
       "<Figure size 432x288 with 1 Axes>"
      ]
     },
     "metadata": {
      "needs_background": "light"
     },
     "output_type": "display_data"
    }
   ],
   "source": [
    "plt.imshow(chess)"
   ]
  },
  {
   "cell_type": "code",
   "execution_count": null,
   "id": "425eb170-4081-4268-84e3-3db9856ba4ef",
   "metadata": {},
   "outputs": [],
   "source": []
  }
 ],
 "metadata": {
  "kernelspec": {
   "display_name": "Python 3",
   "language": "python",
   "name": "python3"
  },
  "language_info": {
   "codemirror_mode": {
    "name": "ipython",
    "version": 3
   },
   "file_extension": ".py",
   "mimetype": "text/x-python",
   "name": "python",
   "nbconvert_exporter": "python",
   "pygments_lexer": "ipython3",
   "version": "3.8.8"
  }
 },
 "nbformat": 4,
 "nbformat_minor": 5
}
